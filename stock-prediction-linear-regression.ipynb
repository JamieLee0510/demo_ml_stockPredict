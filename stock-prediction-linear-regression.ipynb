{
 "cells": [
  {
   "cell_type": "code",
   "execution_count": 1,
   "metadata": {
    "_cell_guid": "b1076dfc-b9ad-4769-8c92-a6c4dae69d19",
    "_uuid": "8f2839f25d086af736a60e9eeb907d3b93b6e0e5"
   },
   "outputs": [],
   "source": [
    "import numpy as np \n",
    "import pandas as pd \n",
    "import matplotlib.pyplot as plt\n",
    "from datetime import datetime as dt\n"
   ]
  },
  {
   "cell_type": "code",
   "execution_count": 16,
   "metadata": {
    "_cell_guid": "79c7e3d0-c299-4dcb-8224-4455121ee9b0",
    "_uuid": "d629ff2d2480ee46fbb7e2d37f6b5fab8052498a"
   },
   "outputs": [],
   "source": [
    "\n",
    "#讀取平安銀行歷史數據\n",
    "df = pd.read_csv('./000001.csv') "
   ]
  },
  {
   "cell_type": "code",
   "execution_count": 17,
   "metadata": {
    "_uuid": "4f3f24f4b784767d2ad458772c70fdb329d56b49"
   },
   "outputs": [
    {
     "name": "stdout",
     "output_type": "stream",
     "text": [
      "(611, 14)\n"
     ]
    },
    {
     "data": {
      "text/html": [
       "<div>\n",
       "<style scoped>\n",
       "    .dataframe tbody tr th:only-of-type {\n",
       "        vertical-align: middle;\n",
       "    }\n",
       "\n",
       "    .dataframe tbody tr th {\n",
       "        vertical-align: top;\n",
       "    }\n",
       "\n",
       "    .dataframe thead th {\n",
       "        text-align: right;\n",
       "    }\n",
       "</style>\n",
       "<table border=\"1\" class=\"dataframe\">\n",
       "  <thead>\n",
       "    <tr style=\"text-align: right;\">\n",
       "      <th></th>\n",
       "      <th>date</th>\n",
       "      <th>open</th>\n",
       "      <th>high</th>\n",
       "      <th>close</th>\n",
       "      <th>low</th>\n",
       "      <th>volume</th>\n",
       "      <th>price_change</th>\n",
       "      <th>p_change</th>\n",
       "      <th>ma5</th>\n",
       "      <th>ma10</th>\n",
       "      <th>ma20</th>\n",
       "      <th>v_ma5</th>\n",
       "      <th>v_ma10</th>\n",
       "      <th>v_ma20</th>\n",
       "    </tr>\n",
       "  </thead>\n",
       "  <tbody>\n",
       "    <tr>\n",
       "      <th>0</th>\n",
       "      <td>2019-05-30</td>\n",
       "      <td>12.32</td>\n",
       "      <td>12.38</td>\n",
       "      <td>12.22</td>\n",
       "      <td>12.11</td>\n",
       "      <td>646284.62</td>\n",
       "      <td>-0.18</td>\n",
       "      <td>-1.45</td>\n",
       "      <td>12.366</td>\n",
       "      <td>12.390</td>\n",
       "      <td>12.579</td>\n",
       "      <td>747470.29</td>\n",
       "      <td>739308.42</td>\n",
       "      <td>953969.39</td>\n",
       "    </tr>\n",
       "    <tr>\n",
       "      <th>1</th>\n",
       "      <td>2019-05-29</td>\n",
       "      <td>12.36</td>\n",
       "      <td>12.59</td>\n",
       "      <td>12.40</td>\n",
       "      <td>12.26</td>\n",
       "      <td>666411.50</td>\n",
       "      <td>-0.09</td>\n",
       "      <td>-0.72</td>\n",
       "      <td>12.380</td>\n",
       "      <td>12.453</td>\n",
       "      <td>12.673</td>\n",
       "      <td>751584.45</td>\n",
       "      <td>738170.10</td>\n",
       "      <td>973189.95</td>\n",
       "    </tr>\n",
       "    <tr>\n",
       "      <th>2</th>\n",
       "      <td>2019-05-28</td>\n",
       "      <td>12.31</td>\n",
       "      <td>12.55</td>\n",
       "      <td>12.49</td>\n",
       "      <td>12.26</td>\n",
       "      <td>880703.12</td>\n",
       "      <td>0.12</td>\n",
       "      <td>0.97</td>\n",
       "      <td>12.380</td>\n",
       "      <td>12.505</td>\n",
       "      <td>12.742</td>\n",
       "      <td>719548.29</td>\n",
       "      <td>781927.80</td>\n",
       "      <td>990340.43</td>\n",
       "    </tr>\n",
       "    <tr>\n",
       "      <th>3</th>\n",
       "      <td>2019-05-27</td>\n",
       "      <td>12.21</td>\n",
       "      <td>12.42</td>\n",
       "      <td>12.37</td>\n",
       "      <td>11.93</td>\n",
       "      <td>1048426.00</td>\n",
       "      <td>0.02</td>\n",
       "      <td>0.16</td>\n",
       "      <td>12.394</td>\n",
       "      <td>12.505</td>\n",
       "      <td>12.824</td>\n",
       "      <td>689649.77</td>\n",
       "      <td>812117.30</td>\n",
       "      <td>1001879.10</td>\n",
       "    </tr>\n",
       "    <tr>\n",
       "      <th>4</th>\n",
       "      <td>2019-05-24</td>\n",
       "      <td>12.35</td>\n",
       "      <td>12.45</td>\n",
       "      <td>12.35</td>\n",
       "      <td>12.31</td>\n",
       "      <td>495526.19</td>\n",
       "      <td>0.06</td>\n",
       "      <td>0.49</td>\n",
       "      <td>12.396</td>\n",
       "      <td>12.498</td>\n",
       "      <td>12.928</td>\n",
       "      <td>637251.61</td>\n",
       "      <td>781466.47</td>\n",
       "      <td>1046943.98</td>\n",
       "    </tr>\n",
       "  </tbody>\n",
       "</table>\n",
       "</div>"
      ],
      "text/plain": [
       "         date   open   high  close    low      volume  price_change  p_change  \\\n",
       "0  2019-05-30  12.32  12.38  12.22  12.11   646284.62         -0.18     -1.45   \n",
       "1  2019-05-29  12.36  12.59  12.40  12.26   666411.50         -0.09     -0.72   \n",
       "2  2019-05-28  12.31  12.55  12.49  12.26   880703.12          0.12      0.97   \n",
       "3  2019-05-27  12.21  12.42  12.37  11.93  1048426.00          0.02      0.16   \n",
       "4  2019-05-24  12.35  12.45  12.35  12.31   495526.19          0.06      0.49   \n",
       "\n",
       "      ma5    ma10    ma20      v_ma5     v_ma10      v_ma20  \n",
       "0  12.366  12.390  12.579  747470.29  739308.42   953969.39  \n",
       "1  12.380  12.453  12.673  751584.45  738170.10   973189.95  \n",
       "2  12.380  12.505  12.742  719548.29  781927.80   990340.43  \n",
       "3  12.394  12.505  12.824  689649.77  812117.30  1001879.10  \n",
       "4  12.396  12.498  12.928  637251.61  781466.47  1046943.98  "
      ]
     },
     "execution_count": 17,
     "metadata": {},
     "output_type": "execute_result"
    }
   ],
   "source": [
    "print(np.shape(df))\n",
    "df.head()"
   ]
  },
  {
   "cell_type": "markdown",
   "metadata": {},
   "source": [
    "股票数据的特征\n",
    "\n",
    "* date：日期\n",
    "* open：开盘价\n",
    "* high：最高价\n",
    "* close：收盘价\n",
    "* low：最低价\n",
    "* volume：成交量\n",
    "* price_change：价格变动\n",
    "* p_change：涨跌幅\n",
    "* ma5：5日均价\n",
    "* ma10：10日均价\n",
    "* ma20:20日均价\n",
    "* v_ma5:5日均量\n",
    "* v_ma10:10日均量\n",
    "* v_ma20:20日均量"
   ]
  },
  {
   "cell_type": "code",
   "execution_count": 29,
   "metadata": {
    "_uuid": "f65da9ccf67faa0de2c9d71a840d467e92004630"
   },
   "outputs": [
    {
     "data": {
      "text/html": [
       "<div>\n",
       "<style scoped>\n",
       "    .dataframe tbody tr th:only-of-type {\n",
       "        vertical-align: middle;\n",
       "    }\n",
       "\n",
       "    .dataframe tbody tr th {\n",
       "        vertical-align: top;\n",
       "    }\n",
       "\n",
       "    .dataframe thead th {\n",
       "        text-align: right;\n",
       "    }\n",
       "</style>\n",
       "<table border=\"1\" class=\"dataframe\">\n",
       "  <thead>\n",
       "    <tr style=\"text-align: right;\">\n",
       "      <th></th>\n",
       "      <th>open</th>\n",
       "      <th>high</th>\n",
       "      <th>close</th>\n",
       "      <th>low</th>\n",
       "      <th>volume</th>\n",
       "      <th>price_change</th>\n",
       "      <th>p_change</th>\n",
       "      <th>ma5</th>\n",
       "      <th>ma10</th>\n",
       "      <th>ma20</th>\n",
       "      <th>v_ma5</th>\n",
       "      <th>v_ma10</th>\n",
       "      <th>v_ma20</th>\n",
       "      <th>label</th>\n",
       "    </tr>\n",
       "    <tr>\n",
       "      <th>date</th>\n",
       "      <th></th>\n",
       "      <th></th>\n",
       "      <th></th>\n",
       "      <th></th>\n",
       "      <th></th>\n",
       "      <th></th>\n",
       "      <th></th>\n",
       "      <th></th>\n",
       "      <th></th>\n",
       "      <th></th>\n",
       "      <th></th>\n",
       "      <th></th>\n",
       "      <th></th>\n",
       "      <th></th>\n",
       "    </tr>\n",
       "  </thead>\n",
       "  <tbody>\n",
       "    <tr>\n",
       "      <th>2019-05-24</th>\n",
       "      <td>12.35</td>\n",
       "      <td>12.45</td>\n",
       "      <td>12.35</td>\n",
       "      <td>12.31</td>\n",
       "      <td>495526.19</td>\n",
       "      <td>0.06</td>\n",
       "      <td>0.49</td>\n",
       "      <td>12.396</td>\n",
       "      <td>12.498</td>\n",
       "      <td>12.928</td>\n",
       "      <td>637251.61</td>\n",
       "      <td>781466.47</td>\n",
       "      <td>1046943.98</td>\n",
       "      <td>12.44</td>\n",
       "    </tr>\n",
       "    <tr>\n",
       "      <th>2019-05-27</th>\n",
       "      <td>12.21</td>\n",
       "      <td>12.42</td>\n",
       "      <td>12.37</td>\n",
       "      <td>11.93</td>\n",
       "      <td>1048426.00</td>\n",
       "      <td>0.02</td>\n",
       "      <td>0.16</td>\n",
       "      <td>12.394</td>\n",
       "      <td>12.505</td>\n",
       "      <td>12.824</td>\n",
       "      <td>689649.77</td>\n",
       "      <td>812117.30</td>\n",
       "      <td>1001879.10</td>\n",
       "      <td>12.38</td>\n",
       "    </tr>\n",
       "    <tr>\n",
       "      <th>2019-05-28</th>\n",
       "      <td>12.31</td>\n",
       "      <td>12.55</td>\n",
       "      <td>12.49</td>\n",
       "      <td>12.26</td>\n",
       "      <td>880703.12</td>\n",
       "      <td>0.12</td>\n",
       "      <td>0.97</td>\n",
       "      <td>12.380</td>\n",
       "      <td>12.505</td>\n",
       "      <td>12.742</td>\n",
       "      <td>719548.29</td>\n",
       "      <td>781927.80</td>\n",
       "      <td>990340.43</td>\n",
       "      <td>12.56</td>\n",
       "    </tr>\n",
       "    <tr>\n",
       "      <th>2019-05-29</th>\n",
       "      <td>12.36</td>\n",
       "      <td>12.59</td>\n",
       "      <td>12.40</td>\n",
       "      <td>12.26</td>\n",
       "      <td>666411.50</td>\n",
       "      <td>-0.09</td>\n",
       "      <td>-0.72</td>\n",
       "      <td>12.380</td>\n",
       "      <td>12.453</td>\n",
       "      <td>12.673</td>\n",
       "      <td>751584.45</td>\n",
       "      <td>738170.10</td>\n",
       "      <td>973189.95</td>\n",
       "      <td>12.40</td>\n",
       "    </tr>\n",
       "    <tr>\n",
       "      <th>2019-05-30</th>\n",
       "      <td>12.32</td>\n",
       "      <td>12.38</td>\n",
       "      <td>12.22</td>\n",
       "      <td>12.11</td>\n",
       "      <td>646284.62</td>\n",
       "      <td>-0.18</td>\n",
       "      <td>-1.45</td>\n",
       "      <td>12.366</td>\n",
       "      <td>12.390</td>\n",
       "      <td>12.579</td>\n",
       "      <td>747470.29</td>\n",
       "      <td>739308.42</td>\n",
       "      <td>953969.39</td>\n",
       "      <td>12.29</td>\n",
       "    </tr>\n",
       "  </tbody>\n",
       "</table>\n",
       "</div>"
      ],
      "text/plain": [
       "             open   high  close    low      volume  price_change  p_change  \\\n",
       "date                                                                         \n",
       "2019-05-24  12.35  12.45  12.35  12.31   495526.19          0.06      0.49   \n",
       "2019-05-27  12.21  12.42  12.37  11.93  1048426.00          0.02      0.16   \n",
       "2019-05-28  12.31  12.55  12.49  12.26   880703.12          0.12      0.97   \n",
       "2019-05-29  12.36  12.59  12.40  12.26   666411.50         -0.09     -0.72   \n",
       "2019-05-30  12.32  12.38  12.22  12.11   646284.62         -0.18     -1.45   \n",
       "\n",
       "               ma5    ma10    ma20      v_ma5     v_ma10      v_ma20  label  \n",
       "date                                                                         \n",
       "2019-05-24  12.396  12.498  12.928  637251.61  781466.47  1046943.98  12.44  \n",
       "2019-05-27  12.394  12.505  12.824  689649.77  812117.30  1001879.10  12.38  \n",
       "2019-05-28  12.380  12.505  12.742  719548.29  781927.80   990340.43  12.56  \n",
       "2019-05-29  12.380  12.453  12.673  751584.45  738170.10   973189.95  12.40  \n",
       "2019-05-30  12.366  12.390  12.579  747470.29  739308.42   953969.39  12.29  "
      ]
     },
     "execution_count": 29,
     "metadata": {},
     "output_type": "execute_result"
    }
   ],
   "source": [
    "# date轉換為日期\n",
    "\n",
    "df['date'] = pd.to_datetime(df['date'])\n",
    "df = df.set_index('date')\n",
    "# 按照時間順序排列\n",
    "df.sort_values(by=['date'], inplace=True, ascending=True)\n",
    "df.tail()"
   ]
  },
  {
   "cell_type": "code",
   "execution_count": 30,
   "metadata": {
    "_uuid": "2ae12b67fe7ae120255117efa9b96bebd000b3ed"
   },
   "outputs": [
    {
     "data": {
      "text/plain": [
       "open            0\n",
       "high            0\n",
       "close           0\n",
       "low             0\n",
       "volume          0\n",
       "price_change    0\n",
       "p_change        0\n",
       "ma5             0\n",
       "ma10            0\n",
       "ma20            0\n",
       "v_ma5           0\n",
       "v_ma10          0\n",
       "v_ma20          0\n",
       "label           0\n",
       "dtype: int64"
      ]
     },
     "execution_count": 30,
     "metadata": {},
     "output_type": "execute_result"
    }
   ],
   "source": [
    "# 檢查缺失值\n",
    "\n",
    "df.dropna(axis=0 , inplace=True)\n",
    "df.isna().sum()"
   ]
  },
  {
   "cell_type": "code",
   "execution_count": 31,
   "metadata": {
    "_uuid": "1c6fed75ef050f8a011f40e41fa4239c08048c3d"
   },
   "outputs": [
    {
     "name": "stdout",
     "output_type": "stream",
     "text": [
      "First date is 2016-12-06 00:00:00\n",
      "Last date is 2019-05-30 00:00:00\n",
      "905 days 00:00:00\n"
     ]
    }
   ],
   "source": [
    "Min_date = df.index.min()\n",
    "Max_date = df.index.max()\n",
    "print (\"First date is\",Min_date)\n",
    "print (\"Last date is\",Max_date)\n",
    "print (Max_date - Min_date)"
   ]
  },
  {
   "cell_type": "markdown",
   "metadata": {
    "_uuid": "17ce6b8ae38ac34990ebb5b5abbb25cbc61354c8"
   },
   "source": [
    "### 線性回歸"
   ]
  },
  {
   "cell_type": "code",
   "execution_count": 32,
   "metadata": {
    "_uuid": "b14434f837b67ca737ecebe586cd093a649a5152"
   },
   "outputs": [],
   "source": [
    "from sklearn.linear_model import LinearRegression\n",
    "from sklearn import preprocessing\n"
   ]
  },
  {
   "cell_type": "code",
   "execution_count": 33,
   "metadata": {
    "_uuid": "5f4e90ddabd17f20e52bde8548eb29dcd4273f83"
   },
   "outputs": [
    {
     "name": "stdout",
     "output_type": "stream",
     "text": [
      "(606, 14)\n"
     ]
    }
   ],
   "source": [
    "# new columns 預測值，根據當前數據預測5天後的收盤價\n",
    "num = 5 # 預測5天後的情況\n",
    "df['label'] = df['close'].shift(-num) \n",
    "                                     \n",
    "print(df.shape)"
   ]
  },
  {
   "cell_type": "code",
   "execution_count": 34,
   "metadata": {},
   "outputs": [
    {
     "data": {
      "text/html": [
       "<div>\n",
       "<style scoped>\n",
       "    .dataframe tbody tr th:only-of-type {\n",
       "        vertical-align: middle;\n",
       "    }\n",
       "\n",
       "    .dataframe tbody tr th {\n",
       "        vertical-align: top;\n",
       "    }\n",
       "\n",
       "    .dataframe thead th {\n",
       "        text-align: right;\n",
       "    }\n",
       "</style>\n",
       "<table border=\"1\" class=\"dataframe\">\n",
       "  <thead>\n",
       "    <tr style=\"text-align: right;\">\n",
       "      <th></th>\n",
       "      <th>open</th>\n",
       "      <th>high</th>\n",
       "      <th>close</th>\n",
       "      <th>low</th>\n",
       "      <th>volume</th>\n",
       "      <th>ma5</th>\n",
       "      <th>ma10</th>\n",
       "      <th>ma20</th>\n",
       "      <th>v_ma5</th>\n",
       "      <th>v_ma10</th>\n",
       "      <th>v_ma20</th>\n",
       "    </tr>\n",
       "    <tr>\n",
       "      <th>date</th>\n",
       "      <th></th>\n",
       "      <th></th>\n",
       "      <th></th>\n",
       "      <th></th>\n",
       "      <th></th>\n",
       "      <th></th>\n",
       "      <th></th>\n",
       "      <th></th>\n",
       "      <th></th>\n",
       "      <th></th>\n",
       "      <th></th>\n",
       "    </tr>\n",
       "  </thead>\n",
       "  <tbody>\n",
       "    <tr>\n",
       "      <th>2019-05-24</th>\n",
       "      <td>12.35</td>\n",
       "      <td>12.45</td>\n",
       "      <td>12.35</td>\n",
       "      <td>12.31</td>\n",
       "      <td>495526.19</td>\n",
       "      <td>12.396</td>\n",
       "      <td>12.498</td>\n",
       "      <td>12.928</td>\n",
       "      <td>637251.61</td>\n",
       "      <td>781466.47</td>\n",
       "      <td>1046943.98</td>\n",
       "    </tr>\n",
       "    <tr>\n",
       "      <th>2019-05-27</th>\n",
       "      <td>12.21</td>\n",
       "      <td>12.42</td>\n",
       "      <td>12.37</td>\n",
       "      <td>11.93</td>\n",
       "      <td>1048426.00</td>\n",
       "      <td>12.394</td>\n",
       "      <td>12.505</td>\n",
       "      <td>12.824</td>\n",
       "      <td>689649.77</td>\n",
       "      <td>812117.30</td>\n",
       "      <td>1001879.10</td>\n",
       "    </tr>\n",
       "    <tr>\n",
       "      <th>2019-05-28</th>\n",
       "      <td>12.31</td>\n",
       "      <td>12.55</td>\n",
       "      <td>12.49</td>\n",
       "      <td>12.26</td>\n",
       "      <td>880703.12</td>\n",
       "      <td>12.380</td>\n",
       "      <td>12.505</td>\n",
       "      <td>12.742</td>\n",
       "      <td>719548.29</td>\n",
       "      <td>781927.80</td>\n",
       "      <td>990340.43</td>\n",
       "    </tr>\n",
       "    <tr>\n",
       "      <th>2019-05-29</th>\n",
       "      <td>12.36</td>\n",
       "      <td>12.59</td>\n",
       "      <td>12.40</td>\n",
       "      <td>12.26</td>\n",
       "      <td>666411.50</td>\n",
       "      <td>12.380</td>\n",
       "      <td>12.453</td>\n",
       "      <td>12.673</td>\n",
       "      <td>751584.45</td>\n",
       "      <td>738170.10</td>\n",
       "      <td>973189.95</td>\n",
       "    </tr>\n",
       "    <tr>\n",
       "      <th>2019-05-30</th>\n",
       "      <td>12.32</td>\n",
       "      <td>12.38</td>\n",
       "      <td>12.22</td>\n",
       "      <td>12.11</td>\n",
       "      <td>646284.62</td>\n",
       "      <td>12.366</td>\n",
       "      <td>12.390</td>\n",
       "      <td>12.579</td>\n",
       "      <td>747470.29</td>\n",
       "      <td>739308.42</td>\n",
       "      <td>953969.39</td>\n",
       "    </tr>\n",
       "  </tbody>\n",
       "</table>\n",
       "</div>"
      ],
      "text/plain": [
       "             open   high  close    low      volume     ma5    ma10    ma20  \\\n",
       "date                                                                         \n",
       "2019-05-24  12.35  12.45  12.35  12.31   495526.19  12.396  12.498  12.928   \n",
       "2019-05-27  12.21  12.42  12.37  11.93  1048426.00  12.394  12.505  12.824   \n",
       "2019-05-28  12.31  12.55  12.49  12.26   880703.12  12.380  12.505  12.742   \n",
       "2019-05-29  12.36  12.59  12.40  12.26   666411.50  12.380  12.453  12.673   \n",
       "2019-05-30  12.32  12.38  12.22  12.11   646284.62  12.366  12.390  12.579   \n",
       "\n",
       "                v_ma5     v_ma10      v_ma20  \n",
       "date                                          \n",
       "2019-05-24  637251.61  781466.47  1046943.98  \n",
       "2019-05-27  689649.77  812117.30  1001879.10  \n",
       "2019-05-28  719548.29  781927.80   990340.43  \n",
       "2019-05-29  751584.45  738170.10   973189.95  \n",
       "2019-05-30  747470.29  739308.42   953969.39  "
      ]
     },
     "execution_count": 34,
     "metadata": {},
     "output_type": "execute_result"
    }
   ],
   "source": [
    "# drop columns 'label', 'price_change', 'p_change', \n",
    "Data = df.drop(['label', 'price_change', 'p_change'],axis=1)\n",
    "Data.tail()"
   ]
  },
  {
   "cell_type": "code",
   "execution_count": 35,
   "metadata": {
    "_uuid": "41ef0b0393d220ca7e9c7daeea2d9b8f3264cd16"
   },
   "outputs": [
    {
     "name": "stdout",
     "output_type": "stream",
     "text": [
      "(601, 11) (601,)\n"
     ]
    }
   ],
   "source": [
    "X = Data.values\n",
    "X = preprocessing.scale(X)\n",
    "X = X[:-num]\n",
    "\n",
    "df.dropna(inplace=True)\n",
    "Target = df.label\n",
    "y = Target.values\n",
    "\n",
    "print(np.shape(X), np.shape(y))"
   ]
  },
  {
   "cell_type": "code",
   "execution_count": 36,
   "metadata": {
    "_uuid": "e27b1618a66e94aa339db0a4f3242d3d3af2683a"
   },
   "outputs": [
    {
     "name": "stdout",
     "output_type": "stream",
     "text": [
      "(550, 11)\n",
      "(550,)\n",
      "(51, 11)\n",
      "(51,)\n"
     ]
    }
   ],
   "source": [
    "# 將數據分為預測數據和測試數據\n",
    "X_train, y_train = X[0:550, :], y[0:550]\n",
    "X_test, y_test = X[550:, -51:], y[550:606]\n",
    "print(X_train.shape)\n",
    "print(y_train.shape)\n",
    "print(X_test.shape)\n",
    "print(y_test.shape)"
   ]
  },
  {
   "cell_type": "code",
   "execution_count": 37,
   "metadata": {
    "_uuid": "d904bb47468d440b1ab93b9be81dfe74aba06714"
   },
   "outputs": [
    {
     "data": {
      "text/plain": [
       "0.014438635616478623"
      ]
     },
     "execution_count": 37,
     "metadata": {},
     "output_type": "execute_result"
    }
   ],
   "source": [
    "lr = LinearRegression()\n",
    "lr.fit(X_train, y_train)\n",
    "lr.score(X_test, y_test) "
   ]
  },
  {
   "cell_type": "code",
   "execution_count": 38,
   "metadata": {},
   "outputs": [
    {
     "name": "stdout",
     "output_type": "stream",
     "text": [
      "[12.49032506 12.44361604 12.5489738  12.31110781 12.26585353]\n",
      "[12.35 12.37 12.49 12.4  12.22]\n",
      "[[ 1.33125866  1.1899868   1.01204263  1.09605367 -0.09595564  1.12924788\n",
      "   1.16550482  1.7213016  -0.19369041  0.26813403  0.25943763]\n",
      " [ 0.97015821  0.95310998  0.97420226  1.02384853 -0.38166106  1.13943271\n",
      "   1.13398108  1.6562867  -0.1763493  -0.00913758  0.23458193]\n",
      " [ 1.00183369  1.06851151  1.08772338  1.09605367 -0.47002066  1.14834444\n",
      "   1.10889075  1.59783897 -0.35218064 -0.08073906  0.26017878]\n",
      " [ 1.10953031  0.97133127  0.98681572  1.06979726 -0.82998871  1.08214301\n",
      "   1.09602392  1.52165991 -0.58502826 -0.17913431  0.1757023 ]\n",
      " [ 0.90047216  0.8802248   0.9174417   0.95164339 -0.57298887  1.01084916\n",
      "   1.10438736  1.46058531 -0.57258106 -0.36582905  0.10086176]]\n"
     ]
    }
   ],
   "source": [
    "# 做預測\n",
    "\n",
    "X_Predict = X[-num:]\n",
    "Forecast = lr.predict(X_Predict)\n",
    "print(Forecast)\n",
    "print(y[-num:])\n",
    "print(X_Predict)"
   ]
  },
  {
   "cell_type": "markdown",
   "metadata": {
    "_uuid": "0bc3850cedac7ce9c7adeec0a2abda2633584eb1"
   },
   "source": [
    "### 畫預測結果"
   ]
  },
  {
   "cell_type": "code",
   "execution_count": 39,
   "metadata": {
    "_uuid": "79279a2d5d79d1c93649617a9babe0d3d72d33ac"
   },
   "outputs": [
    {
     "data": {
      "text/plain": [
       "DatetimeIndex(['2019-05-13', '2019-05-14', '2019-05-15', '2019-05-16',\n",
       "               '2019-05-17'],\n",
       "              dtype='datetime64[ns]', freq='D')"
      ]
     },
     "execution_count": 39,
     "metadata": {},
     "output_type": "execute_result"
    }
   ],
   "source": [
    "# 預測 2019-05-13 到 2019-05-17 , 一共 5 天的收盤價\n",
    "trange = pd.date_range('2019-05-13', periods=num, freq='d')\n",
    "trange"
   ]
  },
  {
   "cell_type": "code",
   "execution_count": 40,
   "metadata": {
    "_uuid": "d38d21397f97c38c9e146eb9ad5f1a537c1e908f"
   },
   "outputs": [
    {
     "data": {
      "text/html": [
       "<div>\n",
       "<style scoped>\n",
       "    .dataframe tbody tr th:only-of-type {\n",
       "        vertical-align: middle;\n",
       "    }\n",
       "\n",
       "    .dataframe tbody tr th {\n",
       "        vertical-align: top;\n",
       "    }\n",
       "\n",
       "    .dataframe thead th {\n",
       "        text-align: right;\n",
       "    }\n",
       "</style>\n",
       "<table border=\"1\" class=\"dataframe\">\n",
       "  <thead>\n",
       "    <tr style=\"text-align: right;\">\n",
       "      <th></th>\n",
       "      <th>forecast</th>\n",
       "    </tr>\n",
       "  </thead>\n",
       "  <tbody>\n",
       "    <tr>\n",
       "      <th>2019-05-13</th>\n",
       "      <td>12.490325</td>\n",
       "    </tr>\n",
       "    <tr>\n",
       "      <th>2019-05-14</th>\n",
       "      <td>12.443616</td>\n",
       "    </tr>\n",
       "    <tr>\n",
       "      <th>2019-05-15</th>\n",
       "      <td>12.548974</td>\n",
       "    </tr>\n",
       "    <tr>\n",
       "      <th>2019-05-16</th>\n",
       "      <td>12.311108</td>\n",
       "    </tr>\n",
       "    <tr>\n",
       "      <th>2019-05-17</th>\n",
       "      <td>12.265854</td>\n",
       "    </tr>\n",
       "  </tbody>\n",
       "</table>\n",
       "</div>"
      ],
      "text/plain": [
       "             forecast\n",
       "2019-05-13  12.490325\n",
       "2019-05-14  12.443616\n",
       "2019-05-15  12.548974\n",
       "2019-05-16  12.311108\n",
       "2019-05-17  12.265854"
      ]
     },
     "execution_count": 40,
     "metadata": {},
     "output_type": "execute_result"
    }
   ],
   "source": [
    "# 預測的dataframe\n",
    "Predict_df = pd.DataFrame(Forecast, index=trange)\n",
    "Predict_df.columns = ['forecast']\n",
    "Predict_df"
   ]
  },
  {
   "cell_type": "code",
   "execution_count": 41,
   "metadata": {
    "_uuid": "7080d5a30ae99c8f3d2b9669e9be1757b95fbd06"
   },
   "outputs": [
    {
     "data": {
      "text/html": [
       "<div>\n",
       "<style scoped>\n",
       "    .dataframe tbody tr th:only-of-type {\n",
       "        vertical-align: middle;\n",
       "    }\n",
       "\n",
       "    .dataframe tbody tr th {\n",
       "        vertical-align: top;\n",
       "    }\n",
       "\n",
       "    .dataframe thead th {\n",
       "        text-align: right;\n",
       "    }\n",
       "</style>\n",
       "<table border=\"1\" class=\"dataframe\">\n",
       "  <thead>\n",
       "    <tr style=\"text-align: right;\">\n",
       "      <th></th>\n",
       "      <th>open</th>\n",
       "      <th>high</th>\n",
       "      <th>close</th>\n",
       "      <th>low</th>\n",
       "      <th>volume</th>\n",
       "      <th>price_change</th>\n",
       "      <th>p_change</th>\n",
       "      <th>ma5</th>\n",
       "      <th>ma10</th>\n",
       "      <th>ma20</th>\n",
       "      <th>v_ma5</th>\n",
       "      <th>v_ma10</th>\n",
       "      <th>v_ma20</th>\n",
       "      <th>forecast</th>\n",
       "    </tr>\n",
       "  </thead>\n",
       "  <tbody>\n",
       "    <tr>\n",
       "      <th>2019-05-13</th>\n",
       "      <td>12.33</td>\n",
       "      <td>12.54</td>\n",
       "      <td>12.30</td>\n",
       "      <td>12.23</td>\n",
       "      <td>741917.75</td>\n",
       "      <td>-0.38</td>\n",
       "      <td>-3.00</td>\n",
       "      <td>12.538</td>\n",
       "      <td>13.143</td>\n",
       "      <td>13.637</td>\n",
       "      <td>1107915.51</td>\n",
       "      <td>1191640.89</td>\n",
       "      <td>1211461.61</td>\n",
       "      <td>12.490325</td>\n",
       "    </tr>\n",
       "    <tr>\n",
       "      <th>2019-05-14</th>\n",
       "      <td>12.20</td>\n",
       "      <td>12.75</td>\n",
       "      <td>12.49</td>\n",
       "      <td>12.16</td>\n",
       "      <td>1182598.12</td>\n",
       "      <td>0.19</td>\n",
       "      <td>1.54</td>\n",
       "      <td>12.446</td>\n",
       "      <td>12.979</td>\n",
       "      <td>13.585</td>\n",
       "      <td>1129903.46</td>\n",
       "      <td>1198753.07</td>\n",
       "      <td>1237823.69</td>\n",
       "      <td>12.443616</td>\n",
       "    </tr>\n",
       "    <tr>\n",
       "      <th>2019-05-15</th>\n",
       "      <td>12.58</td>\n",
       "      <td>13.11</td>\n",
       "      <td>12.92</td>\n",
       "      <td>12.57</td>\n",
       "      <td>1103988.50</td>\n",
       "      <td>0.43</td>\n",
       "      <td>3.44</td>\n",
       "      <td>12.510</td>\n",
       "      <td>12.892</td>\n",
       "      <td>13.560</td>\n",
       "      <td>1155611.00</td>\n",
       "      <td>1208209.79</td>\n",
       "      <td>1254306.88</td>\n",
       "      <td>12.548974</td>\n",
       "    </tr>\n",
       "    <tr>\n",
       "      <th>2019-05-16</th>\n",
       "      <td>12.93</td>\n",
       "      <td>12.99</td>\n",
       "      <td>12.85</td>\n",
       "      <td>12.78</td>\n",
       "      <td>634901.44</td>\n",
       "      <td>-0.07</td>\n",
       "      <td>-0.54</td>\n",
       "      <td>12.648</td>\n",
       "      <td>12.767</td>\n",
       "      <td>13.518</td>\n",
       "      <td>971160.96</td>\n",
       "      <td>1168630.36</td>\n",
       "      <td>1209357.42</td>\n",
       "      <td>12.311108</td>\n",
       "    </tr>\n",
       "    <tr>\n",
       "      <th>2019-05-17</th>\n",
       "      <td>12.92</td>\n",
       "      <td>12.93</td>\n",
       "      <td>12.44</td>\n",
       "      <td>12.36</td>\n",
       "      <td>965000.88</td>\n",
       "      <td>-0.41</td>\n",
       "      <td>-3.19</td>\n",
       "      <td>12.600</td>\n",
       "      <td>12.626</td>\n",
       "      <td>13.411</td>\n",
       "      <td>925681.34</td>\n",
       "      <td>1153473.43</td>\n",
       "      <td>1138638.70</td>\n",
       "      <td>12.265854</td>\n",
       "    </tr>\n",
       "  </tbody>\n",
       "</table>\n",
       "</div>"
      ],
      "text/plain": [
       "             open   high  close    low      volume  price_change  p_change  \\\n",
       "2019-05-13  12.33  12.54  12.30  12.23   741917.75         -0.38     -3.00   \n",
       "2019-05-14  12.20  12.75  12.49  12.16  1182598.12          0.19      1.54   \n",
       "2019-05-15  12.58  13.11  12.92  12.57  1103988.50          0.43      3.44   \n",
       "2019-05-16  12.93  12.99  12.85  12.78   634901.44         -0.07     -0.54   \n",
       "2019-05-17  12.92  12.93  12.44  12.36   965000.88         -0.41     -3.19   \n",
       "\n",
       "               ma5    ma10    ma20       v_ma5      v_ma10      v_ma20  \\\n",
       "2019-05-13  12.538  13.143  13.637  1107915.51  1191640.89  1211461.61   \n",
       "2019-05-14  12.446  12.979  13.585  1129903.46  1198753.07  1237823.69   \n",
       "2019-05-15  12.510  12.892  13.560  1155611.00  1208209.79  1254306.88   \n",
       "2019-05-16  12.648  12.767  13.518   971160.96  1168630.36  1209357.42   \n",
       "2019-05-17  12.600  12.626  13.411   925681.34  1153473.43  1138638.70   \n",
       "\n",
       "             forecast  \n",
       "2019-05-13  12.490325  \n",
       "2019-05-14  12.443616  \n",
       "2019-05-15  12.548974  \n",
       "2019-05-16  12.311108  \n",
       "2019-05-17  12.265854  "
      ]
     },
     "execution_count": 41,
     "metadata": {},
     "output_type": "execute_result"
    }
   ],
   "source": [
    "# 將預測值加到原本的dataframe\n",
    "df = pd.read_csv('/Users/ding/Desktop/貪心學院-機器學習/Machine-Learning-master/3.LinearRegression.LogisticRegression/LinearRegression/000001.csv') \n",
    "df['date'] = pd.to_datetime(df['date'])\n",
    "df = df.set_index('date')\n",
    "# sort by date\n",
    "df.sort_values(by=['date'], inplace=True, ascending=True)\n",
    "df_concat = pd.concat([df, Predict_df], axis=1)\n",
    "\n",
    "df_concat = df_concat[df_concat.index.isin(Predict_df.index)]\n",
    "df_concat.tail(num)"
   ]
  },
  {
   "cell_type": "code",
   "execution_count": 42,
   "metadata": {
    "_uuid": "a0bb561e5e54ad4f058bf9849543a60c02156458"
   },
   "outputs": [
    {
     "data": {
      "image/png": "[encoded data removed]",
      "text/plain": [
       "<Figure size 432x288 with 1 Axes>"
      ]
     },
     "metadata": {
      "needs_background": "light"
     },
     "output_type": "display_data"
    }
   ],
   "source": [
    "# 畫預測與實際的重合圖\n",
    "\n",
    "df_concat['close'].plot(color='green', linewidth=1)\n",
    "df_concat['forecast'].plot(color='orange', linewidth=3)\n",
    "plt.xlabel('Time')\n",
    "plt.ylabel('Price')\n",
    "plt.show()"
   ]
  },
  {
   "cell_type": "code",
   "execution_count": 43,
   "metadata": {},
   "outputs": [
    {
     "name": "stdout",
     "output_type": "stream",
     "text": [
      "The coefficient for open is -0.7326349877914268\n",
      "The coefficient for high is 0.7518943116464978\n",
      "The coefficient for close is 0.26014918940378456\n",
      "The coefficient for low is 1.1098519077848032\n",
      "The coefficient for volume is 0.010983988255051869\n",
      "The coefficient for ma5 is -0.3321222602483674\n",
      "The coefficient for ma10 is 0.21102280569505444\n",
      "The coefficient for ma20 is 0.2630438916512687\n",
      "The coefficient for v_ma5 is 0.1738038217558423\n",
      "The coefficient for v_ma10 is 0.08149593589059678\n",
      "The coefficient for v_ma20 is -0.26879129068043356\n"
     ]
    }
   ],
   "source": [
    "# 理解模型\n",
    "for idx, col_name in enumerate(['open', 'high', 'close', 'low', 'volume', 'ma5', 'ma10', 'ma20', 'v_ma5', 'v_ma10', 'v_ma20']):\n",
    "    print(\"The coefficient for {} is {}\".format(col_name, lr.coef_[idx]))"
   ]
  },
  {
   "cell_type": "code",
   "execution_count": null,
   "metadata": {},
   "outputs": [],
   "source": []
  }
 ],
 "metadata": {
  "kernelspec": {
   "display_name": "Python 3",
   "language": "python",
   "name": "python3"
  },
  "language_info": {
   "codemirror_mode": {
    "name": "ipython",
    "version": 3
   },
   "file_extension": ".py",
   "mimetype": "text/x-python",
   "name": "python",
   "nbconvert_exporter": "python",
   "pygments_lexer": "ipython3",
   "version": "3.6.5"
  }
 },
 "nbformat": 4,
 "nbformat_minor": 1
}
